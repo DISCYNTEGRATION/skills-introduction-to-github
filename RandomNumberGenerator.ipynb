{
 "cells": [
  {
   "cell_type": "code",
   "execution_count": 10,
   "id": "49d4cdba-9275-455d-b808-fa729ef8f67a",
   "metadata": {
    "scrolled": true
   },
   "outputs": [
    {
     "name": "stdout",
     "output_type": "stream",
     "text": [
      "Hello World!\n",
      "8\n",
      "This message could take a few seconds.\n",
      "Loading message.\n",
      "Loading message..\n",
      "Loading message...\n",
      "Loading message.\n",
      "Loading message..\n",
      "Loading message...\n",
      "Jupyter is a valid service.\n"
     ]
    }
   ],
   "source": [
    "import time\n",
    "import random\n",
    "print(\"Hello World!\")\n",
    "Number = (random.randint)(1,10)\n",
    "print(Number)\n",
    "Message1 = (\"This message could take a few seconds.\")\n",
    "Message2 = (\"Please Be Patient\")\n",
    "LoadingMessage1 = (\"Loading message.\")\n",
    "LoadingMessage2 = (\"Loading message..\")\n",
    "LoadingMessage3 = (\"Loading message...\")\n",
    "EndMessage = (\"Jupyter is a valid service.\")\n",
    "time.sleep(5)\n",
    "print(Message1)\n",
    "time.sleep(9)\n",
    "print(LoadingMessage1)\n",
    "time.sleep(0.5) \n",
    "print(LoadingMessage2)\n",
    "time.sleep(0.5) \n",
    "print(LoadingMessage3)\n",
    "time.sleep(0.5) \n",
    "print(LoadingMessage1)\n",
    "time.sleep(0.5) \n",
    "print(LoadingMessage2)\n",
    "time.sleep(0.5) \n",
    "print(LoadingMessage3)\n",
    "time.sleep(0.5) \n",
    "print(EndMessage)"
   ]
  },
  {
   "cell_type": "code",
   "execution_count": null,
   "id": "6222dafd-0f43-44fb-9aae-047307166f75",
   "metadata": {},
   "outputs": [],
   "source": []
  },
  {
   "cell_type": "code",
   "execution_count": null,
   "id": "2f721a13-41f7-42fd-b2f0-a1096f3cea7f",
   "metadata": {},
   "outputs": [],
   "source": []
  }
 ],
 "metadata": {
  "kernelspec": {
   "display_name": "Python 3 (ipykernel)",
   "language": "python",
   "name": "python3"
  },
  "language_info": {
   "codemirror_mode": {
    "name": "ipython",
    "version": 3
   },
   "file_extension": ".py",
   "mimetype": "text/x-python",
   "name": "python",
   "nbconvert_exporter": "python",
   "pygments_lexer": "ipython3",
   "version": "3.12.4"
  }
 },
 "nbformat": 4,
 "nbformat_minor": 5
}
